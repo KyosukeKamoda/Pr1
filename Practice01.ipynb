{
 "cells": [
  {
   "cell_type": "markdown",
   "metadata": {},
   "source": [
    "# 演習1 のヒントノート"
   ]
  },
  {
   "cell_type": "markdown",
   "metadata": {},
   "source": [
    "## 演習1-1, 1-2"
   ]
  },
  {
   "cell_type": "code",
   "execution_count": 2,
   "metadata": {
    "scrolled": true
   },
   "outputs": [
    {
     "name": "stdout",
     "output_type": "stream",
     "text": [
      "# -*- coding: utf-8 -*-\n",
      "\n",
      "f = open('fread1.py', 'r')    # f = open('README.md', 'r') なども試す\n",
      "data1 = f.read()              # ファイル全部を1つの文字列に読み込む\n",
      "f.close()\n",
      "\n",
      "print(data1)\n"
     ]
    }
   ],
   "source": [
    "# とりあえずスクリプトを表示\n",
    "# シェルエスケープは ! 記号で\n",
    "!cat fread1.py"
   ]
  },
  {
   "cell_type": "markdown",
   "metadata": {},
   "source": [
    "1行づつなにが起こるか確認してみるのが吉"
   ]
  },
  {
   "cell_type": "code",
   "execution_count": null,
   "metadata": {},
   "outputs": [],
   "source": [
    "# 関数は ? で聞くとヘルプが出る\n",
    "?open"
   ]
  },
  {
   "cell_type": "code",
   "execution_count": null,
   "metadata": {},
   "outputs": [],
   "source": [
    "f = open('fread1.py', 'r')"
   ]
  },
  {
   "cell_type": "code",
   "execution_count": null,
   "metadata": {},
   "outputs": [],
   "source": [
    "data1 = f.read()"
   ]
  },
  {
   "cell_type": "code",
   "execution_count": null,
   "metadata": {},
   "outputs": [],
   "source": [
    "f.close()"
   ]
  },
  {
   "cell_type": "code",
   "execution_count": null,
   "metadata": {},
   "outputs": [],
   "source": [
    "# data1 の内容を覗いてみる\n",
    "data1"
   ]
  },
  {
   "cell_type": "markdown",
   "metadata": {},
   "source": [
    "全体をまとめて走らせてみる"
   ]
  },
  {
   "cell_type": "code",
   "execution_count": null,
   "metadata": {},
   "outputs": [],
   "source": [
    "# Jupyter notebook 上で実行するには %run のあとにファイルを指定する\n",
    "\n",
    "%run fread1.py"
   ]
  },
  {
   "cell_type": "code",
   "execution_count": null,
   "metadata": {},
   "outputs": [],
   "source": [
    "# あとは文字列を適宜いじると演習ができるようになります\n",
    "\n",
    "\n",
    "\n"
   ]
  },
  {
   "cell_type": "markdown",
   "metadata": {},
   "source": [
    "## 演習1-3"
   ]
  },
  {
   "cell_type": "code",
   "execution_count": null,
   "metadata": {},
   "outputs": [],
   "source": [
    "# Web を操作するために urllib というモジュールをインポート\n",
    "\n",
    "import urllib"
   ]
  },
  {
   "cell_type": "code",
   "execution_count": null,
   "metadata": {},
   "outputs": [],
   "source": [
    "# 指定先の web から データを引っ張ってくる\n",
    "src = 'http://weather.livedoor.com/forecast/webservice/json/v1?city=400040'    # 読み取り先\n",
    "f = urllib.request.urlopen(src)\n",
    "datastr = f.read()   # データ取得\n",
    "f.close()"
   ]
  },
  {
   "cell_type": "code",
   "execution_count": null,
   "metadata": {},
   "outputs": [],
   "source": [
    "# 読み込んだ datstr に何が入っているかを確認してみよう\n",
    "print(datastr)"
   ]
  },
  {
   "cell_type": "code",
   "execution_count": null,
   "metadata": {},
   "outputs": [],
   "source": [
    "# あとは datstr に入った文字列を料理する\n",
    "# データフォーマットは JSON と呼ばれる形式なので，JSON を理解する道具を import しておく\n",
    "\n",
    "import json"
   ]
  },
  {
   "cell_type": "code",
   "execution_count": null,
   "metadata": {},
   "outputs": [],
   "source": [
    "# json の load string (loads メソッド) を用いると，Python の辞書に解釈し直してくれる\n",
    "json.loads?"
   ]
  },
  {
   "cell_type": "code",
   "execution_count": null,
   "metadata": {},
   "outputs": [],
   "source": [
    "json.loads(datastr)"
   ]
  },
  {
   "cell_type": "code",
   "execution_count": null,
   "metadata": {},
   "outputs": [],
   "source": [
    "# なので，これを変数に入れて遊ぶ\n",
    "q = json.loads(datastr)\n",
    "q['description'] # 取り出したものも辞書になってはいる"
   ]
  },
  {
   "cell_type": "markdown",
   "metadata": {},
   "source": [
    "まとめてスクリプトにしたものを走らせてみる"
   ]
  },
  {
   "cell_type": "code",
   "execution_count": null,
   "metadata": {},
   "outputs": [],
   "source": [
    "%run weather1.py"
   ]
  },
  {
   "cell_type": "markdown",
   "metadata": {},
   "source": [
    "# 1-3 のおまけ\n",
    "\n",
    "都市のリストを件のXMLから取り出してみよう．\n",
    "\n",
    "http://weather.livedoor.com/forecast/rss/primary_area.xml\n",
    "\n",
    "は，XMLファイルを提供してくれているので，都市名をキーとした辞書を作ってみる．"
   ]
  },
  {
   "cell_type": "code",
   "execution_count": null,
   "metadata": {},
   "outputs": [],
   "source": [
    "# Web スクレイピングをするのに便利な Beuatiful Soup を使う\n",
    "import urllib3\n",
    "from bs4 import BeautifulSoup\n",
    "import certifi"
   ]
  },
  {
   "cell_type": "code",
   "execution_count": null,
   "metadata": {},
   "outputs": [],
   "source": [
    "# XML を呼び出して BeautifulSoup に突っ込む\n",
    "\n",
    "url = 'http://weather.livedoor.com/forecast/rss/primary_area.xml'\n",
    "\n",
    "http = urllib3.PoolManager(\n",
    "    cert_reqs='CERT_REQUIRED',\n",
    "    ca_certs=certifi.where())\n",
    "resource = http.request('GET', url)\n",
    "\n",
    "soup = BeautifulSoup(resource.data, 'lxml-xml')\n",
    "\n",
    "# 突っ込んだら取り出す．アトリビュートは \n",
    "# id に 都市番号，source に天気情報の url, title に都市名が入っている\n",
    "# とりあえず，city タグを持つものを全部引っ張ってきて，辞書に突っ込んでいく\n",
    "\n",
    "citytable = soup.find_all('city')\n",
    "\n",
    "cityname_dict = {}   # 空の辞書を作って，付け足していく\n",
    "\n",
    "for city in citytable:\n",
    "    cityid = city['id']\n",
    "    url = city['source']\n",
    "    name = city['title']\n",
    "    cityname_dict[name] = [cityid, url]\n",
    "\n",
    "# 辞書の key 値を表示する．\n",
    "print(cityname_dict.keys())"
   ]
  },
  {
   "cell_type": "code",
   "execution_count": null,
   "metadata": {},
   "outputs": [],
   "source": [
    "# 辞書全体を表示してみる\n",
    "for key in cityname_dict:\n",
    "    print(key, '====>', cityname_dict[key])"
   ]
  },
  {
   "cell_type": "code",
   "execution_count": null,
   "metadata": {},
   "outputs": [],
   "source": [
    "# 例えば仙台の天気の url を知りたければ cityname_dict['仙台'] をつかって\n",
    "# データを取り出して，そのリストの２番目の要素を取り出すとよいはずです．\n",
    "\n",
    "print(cityname_dict['仙台'][1])"
   ]
  }
 ],
 "metadata": {
  "kernelspec": {
   "display_name": "Python 3",
   "language": "python",
   "name": "python3"
  },
  "language_info": {
   "codemirror_mode": {
    "name": "ipython",
    "version": 3
   },
   "file_extension": ".py",
   "mimetype": "text/x-python",
   "name": "python",
   "nbconvert_exporter": "python",
   "pygments_lexer": "ipython3",
   "version": "3.7.0"
  }
 },
 "nbformat": 4,
 "nbformat_minor": 4
}
